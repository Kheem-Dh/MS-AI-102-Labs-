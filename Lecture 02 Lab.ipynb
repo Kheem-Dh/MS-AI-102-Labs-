{
 "cells": [
  {
   "cell_type": "markdown",
   "metadata": {},
   "source": [
    "# Monitor Azure AI Services\n",
    "Azure AI Services can be a critical part of an overall application infrastructure. It’s important to be able to monitor activity and get alerted to issues that may need attention.\n",
    "\n",
    "## Provision an Azure AI Services resource\n",
    "If you don’t already have one in your subscription, you’ll need to provision an Azure AI Services resource.\n",
    "\n",
    "## Configure an alert\n",
    "Let’s start monitoring by defining an alert rule so you can detect activity in your Azure AI services resource.\n",
    "\n",
    "1. In the Azure portal, go to your Azure AI services resource and view its Alerts page (in the Monitoring section).\n",
    "2. Select + Create dropdown, and select Alert rule\n",
    "3. In the Create an alert rule page, under Scope, verify that the your Azure AI services resource is listed. (Close Select a signal pane if open)\n",
    "4. Select Condition tab, and click on the See all signals link to show the Select a signal pane that appears on the right, where you can select a signal type to monitor.\n",
    "5. In the Signal type list, select Activity Log, and then in the filtered list, select List Keys.\n",
    "6. Review the activity over the past 6 hours.\n",
    "7. Select the Actions tab. Note that you can specify an action group. This enables you to configure automated actions when an alert is fired - for example, sending an email notification. We won’t do that in this exercise; but it can be useful to do this in a production environment.\n",
    "8. In the Details tab, set the Alert rule name to Key List Alert.\n",
    "9. Select Review + create.\n",
    "10. Review the configuration for the alert. Select Create and wait for the alert rule to be created.\n",
    "11. Enter the following command to sign into your Azure subscription by using the Azure CLI."
   ]
  },
  {
   "cell_type": "code",
   "execution_count": 13,
   "metadata": {},
   "outputs": [
    {
     "name": "stdout",
     "output_type": "stream",
     "text": [
      "\u001b[93mA web browser has been opened at https://login.microsoftonline.com/organizations/oauth2/v2.0/authorize. Please continue the login in the web browser. If no web browser is available or if the web browser fails to open, use device code flow with `az login --use-device-code`.\u001b[0m\n",
      "[\n",
      "  {\n",
      "    \"cloudName\": \"AzureCloud\",\n",
      "    \"homeTenantId\": \"9f29c0ee-e759-4225-8eb9-8ad87ca0802e\",\n",
      "    \"id\": \"037c30a5-5ce7-43c3-b964-703eeb6b0dd7\",\n",
      "    \"isDefault\": true,\n",
      "    \"managedByTenants\": [],\n",
      "    \"name\": \"Azure subscription 1\",\n",
      "    \"state\": \"Enabled\",\n",
      "    \"tenantId\": \"9f29c0ee-e759-4225-8eb9-8ad87ca0802e\",\n",
      "    \"user\": {\n",
      "      \"name\": \"nomantanveer021@gmail.com\",\n",
      "      \"type\": \"user\"\n",
      "    }\n",
      "  }\n",
      "]\n"
     ]
    }
   ],
   "source": [
    "!az login"
   ]
  },
  {
   "cell_type": "code",
   "execution_count": 14,
   "metadata": {},
   "outputs": [
    {
     "name": "stdout",
     "output_type": "stream",
     "text": [
      "{\n",
      "  \"key1\": \"c4e32354854548679076355bef22fa19\",\n",
      "  \"key2\": \"2df24400b1fe490488a3313bc9eebba9\"\n",
      "}\n"
     ]
    }
   ],
   "source": [
    "# This will create an alert in the Azure portal\n",
    "!az cognitiveservices account keys list --name cogntive-srvc-2 --resource-group demo"
   ]
  },
  {
   "cell_type": "markdown",
   "metadata": {},
   "source": [
    "- Switch back to the browser containing the Azure portal, and refresh your Alerts page. You should see a `Key List Alert` alert listed in the table (if not, wait up to five minutes and refresh again).\n",
    "- Select the alert to see its details."
   ]
  },
  {
   "cell_type": "markdown",
   "metadata": {},
   "source": [
    "## Visualize a metric\n",
    "As well as defining alerts, you can view metrics for your Azure AI services resource to monitor its utilization.\n",
    "\n",
    "1. In the Azure portal, in the page for your Azure AI services resource, select Metrics (in the Monitoring section).\n",
    "2. If there is no existing chart, select + New chart. Then in the Metric list, review the possible metrics you can visualize and select Total Calls.\n",
    "3. In the Aggregation list, select Count. This will enable you to monitor the total calls to you Azure AI Service resource; which is useful in determining how much the service is being used over a period of time.\n",
    "4. To generate some requests to your Azure AI service, you will use curl - a command line tool for HTTP requests. In Visual Studio Code, in the 03-monitor folder, open rest-test.cmd and edit the curl command it contains (shown below), replacing <yourEndpoint> and <yourKey> with your endpoint URI and Key1 key to use the Text Analytics API in your Azure AI services resource."
   ]
  },
  {
   "cell_type": "code",
   "execution_count": 15,
   "metadata": {},
   "outputs": [
    {
     "name": "stdout",
     "output_type": "stream",
     "text": [
      "{\"documents\":[{\"id\":\"1\",\"detectedLanguage\":{\"name\":\"English\",\"iso6391Name\":\"en\",\"confidenceScore\":1.0},\"warnings\":[]}],\"errors\":[],\"modelVersion\":\"2022-10-01\"}"
     ]
    }
   ],
   "source": [
    "!curl -X POST \"https://cogntive-srvc-2.cognitiveservices.azure.com/text/analytics/v3.1/languages?\" -H \"Content-Type: application/json\" -H \"Ocp-Apim-Subscription-Key: c4e32354854548679076355bef22fa19\" --data-ascii \"{'documents':[{'id':1,'text':'hello'}]}\""
   ]
  },
  {
   "cell_type": "markdown",
   "metadata": {},
   "source": [
    "The command returns a JSON document containing information about the language detected in the input data (which should be English).\n",
    "\n",
    "1. Re-run the **rest-test** command multiple times to generate some call activity.\n",
    "2. Return to the **Metrics** page in the Azure portal and refresh the **Total Calls** count chart. It may take a few minutes for the calls you made using curl to be reflected in the chart - keep refreshing the chart until it updates to include them."
   ]
  },
  {
   "cell_type": "markdown",
   "metadata": {},
   "source": [
    "One of the options for monitoring Azure AI services is to use diagnostic logging. Once enabled, diagnostic logging captures rich information about your Azure AI services resource usage, and can be a useful monitoring and debugging tool. It can take over an hour after setting up diagnostic logging to generate any information, which is why we haven’t explored it in this exercise; but you can learn more about it in the [Azure AI Services documentation](https://docs.microsoft.com/azure/cognitive-services/diagnostic-logging)."
   ]
  },
  {
   "cell_type": "markdown",
   "metadata": {},
   "source": [
    "# Choose a service to containerize\n",
    "Ensure you have Congitive AI Service configured.\n",
    "\n",
    "## Deploy and run a Text Analytics container\n",
    "In the Azure portal, on the Home page, select the ＋Create a resource button, search for container instances, and create a Container Instances resource with the following settings:\n",
    "\n",
    "- Basics:\n",
    "    - Subscription: Your Azure subscription\n",
    "    - Resource group: Choose the resource group containing your Azure AI services resource\n",
    "    - Container name: Enter a unique name\n",
    "    - Region: Choose any available region\n",
    "    - Image source: Other Registry\n",
    "    - Image type: Public\n",
    "    - Image: mcr.microsoft.com/azure-cognitive-services/textanalytics/language:latest\n",
    "    - OS type: Linux\n",
    "    - Size: 1 vcpu, 12 GB memory\n",
    "- Networking:\n",
    "    - Networking type: Public\n",
    "    - DNS name label: Enter a unique name for the container endpoint\n",
    "    - Ports: Change the TCP port from 80 to 5000\n",
    "- Advanced:\n",
    "    - Restart policy: On failure\n",
    "    - Environment variables:\n",
    "        Yes\tApiKey\tEither key for your Azure AI services resource\n",
    "        Yes\tBilling\tThe endpoint URI for your Azure AI services resource\n",
    "        No\tEula\taccept\n",
    "    - Command override: [ ]\n",
    "- Tags:\n",
    "    - Don’t add any tags\n",
    "2. Wait for deployment to complete, and then go to the deployed resource.\n",
    "3. Observe the following properties of your container instance resource on its Overview page:\n",
    "    - Status: This should be Running.\n",
    "    - IP Address: This is the public IP address you can use to access your container instances.\n",
    "    - FQDN: This is the fully-qualified domain name of the container instances resource, you can use this to access the container instances instead of the IP address.\n",
    "\n",
    "### Use the container\n",
    "Run the cell below replacing <your_ACI_IP_address_or_FQDN> with the IP address or FQDN for your container."
   ]
  },
  {
   "cell_type": "code",
   "execution_count": 16,
   "metadata": {},
   "outputs": [
    {
     "name": "stdout",
     "output_type": "stream",
     "text": [
      "curl: (6) Could not resolve host: POST\n",
      "curl: (6) Could not resolve host: ms-container.g9a3gze2dvaqfpa9.centralindia.azurecontainer.io\n"
     ]
    }
   ],
   "source": [
    "!curl POST \"http://ms-container.g9a3gze2dvaqfpa9.centralindia.azurecontainer.io:5000/text/analytics/v3.0/languages\" -H \"Content-Type: application/json\" --data-ascii \"{'documents':[{'id':1,'text':'Hello world.'},{'id':2,'text':'Salut tout le monde.'}]}\""
   ]
  }
 ],
 "metadata": {
  "kernelspec": {
   "display_name": "base",
   "language": "python",
   "name": "python3"
  },
  "language_info": {
   "codemirror_mode": {
    "name": "ipython",
    "version": 3
   },
   "file_extension": ".py",
   "mimetype": "text/x-python",
   "name": "python",
   "nbconvert_exporter": "python",
   "pygments_lexer": "ipython3",
   "version": "3.9.12"
  },
  "orig_nbformat": 4
 },
 "nbformat": 4,
 "nbformat_minor": 2
}
